{
 "cells": [
  {
   "cell_type": "markdown",
   "id": "cbca494a",
   "metadata": {},
   "source": [
    "# Concept\n",
    "You can substitute many variables at once using a dictionary {}.\n",
    "Useful when dealing with multivariable algebra."
   ]
  },
  {
   "cell_type": "code",
   "execution_count": 2,
   "id": "34ff73f0",
   "metadata": {},
   "outputs": [
    {
     "name": "stdout",
     "output_type": "stream",
     "text": [
      "Expression at x=2, y=3: 25\n"
     ]
    }
   ],
   "source": [
    "from sympy import expand, symbols\n",
    "\n",
    "y = symbols('y')\n",
    "expr = x**2 + y**2 + 2*x*y\n",
    "\n",
    "substituted = expr.subs({x: 2, y: 3})\n",
    "\n",
    "print(\"Expression at x=2, y=3:\", substituted)"
   ]
  }
 ],
 "metadata": {
  "kernelspec": {
   "display_name": "Python 3",
   "language": "python",
   "name": "python3"
  },
  "language_info": {
   "codemirror_mode": {
    "name": "ipython",
    "version": 3
   },
   "file_extension": ".py",
   "mimetype": "text/x-python",
   "name": "python",
   "nbconvert_exporter": "python",
   "pygments_lexer": "ipython3",
   "version": "3.13.5"
  }
 },
 "nbformat": 4,
 "nbformat_minor": 5
}

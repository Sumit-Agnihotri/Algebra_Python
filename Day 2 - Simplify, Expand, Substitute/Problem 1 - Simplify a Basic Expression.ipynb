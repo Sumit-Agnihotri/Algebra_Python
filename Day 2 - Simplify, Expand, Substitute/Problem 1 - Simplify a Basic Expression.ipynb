{
 "cells": [
  {
   "cell_type": "markdown",
   "id": "330ea554",
   "metadata": {},
   "source": [
    "# Concept\n",
    "\n",
    "Simplification means combining like terms (same variable and power).\n",
    "Example: 2x + 3x + x - 4 → 6x - 4"
   ]
  },
  {
   "cell_type": "code",
   "execution_count": 1,
   "id": "1ab6a5b5",
   "metadata": {},
   "outputs": [
    {
     "name": "stdout",
     "output_type": "stream",
     "text": [
      "Original Expression: 6*x - 4\n",
      "Simplified: 6*x - 4\n"
     ]
    }
   ],
   "source": [
    "from sympy import symbols, simplify\n",
    "\n",
    "x = symbols('x')\n",
    "expr = 2*x + 3*x - 4 + x\n",
    "\n",
    "simplified = simplify(expr)\n",
    "\n",
    "print(\"Original Expression:\", expr)\n",
    "print(\"Simplified:\", simplified)"
   ]
  }
 ],
 "metadata": {
  "kernelspec": {
   "display_name": "Python 3",
   "language": "python",
   "name": "python3"
  },
  "language_info": {
   "codemirror_mode": {
    "name": "ipython",
    "version": 3
   },
   "file_extension": ".py",
   "mimetype": "text/x-python",
   "name": "python",
   "nbconvert_exporter": "python",
   "pygments_lexer": "ipython3",
   "version": "3.13.5"
  }
 },
 "nbformat": 4,
 "nbformat_minor": 5
}

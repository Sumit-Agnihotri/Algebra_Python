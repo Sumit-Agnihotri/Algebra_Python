{
 "cells": [
  {
   "cell_type": "markdown",
   "id": "e615704a",
   "metadata": {},
   "source": [
    "# Concept\n",
    "Use expand() to open up powers like (2x + 1)^2.\n",
    "This is a shortcut to multiplying (2x + 1) with itself."
   ]
  },
  {
   "cell_type": "code",
   "execution_count": null,
   "id": "82eb446d",
   "metadata": {},
   "outputs": [
    {
     "name": "stdout",
     "output_type": "stream",
     "text": [
      "Expanded Power: 4*x**2 + 4*x + 1\n"
     ]
    }
   ],
   "source": [
    "from sympy import symbols, expand\n",
    "\n",
    "x = symbols('x')\n",
    "expr = (2*x + 1)**2\n",
    "expanded = expand(expr)\n",
    "\n",
    "print(\"Expanded Power:\", expanded)"
   ]
  }
 ],
 "metadata": {
  "kernelspec": {
   "display_name": "Python 3",
   "language": "python",
   "name": "python3"
  },
  "language_info": {
   "codemirror_mode": {
    "name": "ipython",
    "version": 3
   },
   "file_extension": ".py",
   "mimetype": "text/x-python",
   "name": "python",
   "nbconvert_exporter": "python",
   "pygments_lexer": "ipython3",
   "version": "3.13.5"
  }
 },
 "nbformat": 4,
 "nbformat_minor": 5
}

{
 "cells": [
  {
   "cell_type": "markdown",
   "id": "174ca38f",
   "metadata": {},
   "source": [
    "# Concept\n",
    "You can replace variables with real numbers using .subs() method.\n",
    "This is called substitution."
   ]
  },
  {
   "cell_type": "code",
   "execution_count": 2,
   "id": "cfd5c487",
   "metadata": {},
   "outputs": [
    {
     "name": "stdout",
     "output_type": "stream",
     "text": [
      "Expression at x = 2: 20\n"
     ]
    }
   ],
   "source": [
    "from sympy import symbols, expand\n",
    "\n",
    "x = symbols('x')\n",
    "\n",
    "expr = x**2 + 5*x + 6\n",
    "value = expr.subs(x, 2)\n",
    "\n",
    "print(\"Expression at x = 2:\", value)"
   ]
  }
 ],
 "metadata": {
  "kernelspec": {
   "display_name": "Python 3",
   "language": "python",
   "name": "python3"
  },
  "language_info": {
   "codemirror_mode": {
    "name": "ipython",
    "version": 3
   },
   "file_extension": ".py",
   "mimetype": "text/x-python",
   "name": "python",
   "nbconvert_exporter": "python",
   "pygments_lexer": "ipython3",
   "version": "3.13.5"
  }
 },
 "nbformat": 4,
 "nbformat_minor": 5
}

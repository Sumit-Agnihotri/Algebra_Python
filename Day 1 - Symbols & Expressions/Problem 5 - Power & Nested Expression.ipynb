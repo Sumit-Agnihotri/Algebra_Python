{
 "cells": [
  {
   "cell_type": "markdown",
   "id": "164f36e1",
   "metadata": {},
   "source": [
    "# Concept\n",
    "Handle powers and nesting like (x + 1)**2."
   ]
  },
  {
   "cell_type": "code",
   "execution_count": 3,
   "id": "61ebc003",
   "metadata": {},
   "outputs": [
    {
     "name": "stdout",
     "output_type": "stream",
     "text": [
      "Original: (x + 1)**2\n",
      "Expanded: x**2 + 2*x + 1\n"
     ]
    }
   ],
   "source": [
    "from sympy import symbols, expand\n",
    "\n",
    "x = symbols('x')\n",
    "expr = (x + 1)**2\n",
    "expanded_expr = expand(expr)\n",
    "\n",
    "print(\"Original:\", expr)\n",
    "print(\"Expanded:\", expanded_expr)\n"
   ]
  }
 ],
 "metadata": {
  "kernelspec": {
   "display_name": "Python 3",
   "language": "python",
   "name": "python3"
  },
  "language_info": {
   "codemirror_mode": {
    "name": "ipython",
    "version": 3
   },
   "file_extension": ".py",
   "mimetype": "text/x-python",
   "name": "python",
   "nbconvert_exporter": "python",
   "pygments_lexer": "ipython3",
   "version": "3.13.5"
  }
 },
 "nbformat": 4,
 "nbformat_minor": 5
}

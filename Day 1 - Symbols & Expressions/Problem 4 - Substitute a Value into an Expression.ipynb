{
 "cells": [
  {
   "cell_type": "code",
   "execution_count": 1,
   "id": "480b53cb",
   "metadata": {},
   "outputs": [],
   "source": [
    "from sympy import symbols"
   ]
  },
  {
   "cell_type": "markdown",
   "id": "684eaa21",
   "metadata": {},
   "source": [
    "# Concept\n",
    "Replace x with a number (e.g., x = 5) and evaluate."
   ]
  },
  {
   "cell_type": "code",
   "execution_count": 2,
   "id": "2cfc465b",
   "metadata": {},
   "outputs": [
    {
     "name": "stdout",
     "output_type": "stream",
     "text": [
      "Evaluated Expression at x=5: 36\n"
     ]
    }
   ],
   "source": [
    "x = symbols('x')\n",
    "expr = x**2 + 2*x + 1\n",
    "evaluated = expr.subs(x, 5)\n",
    "\n",
    "print(\"Evaluated Expression at x=5:\", evaluated)"
   ]
  }
 ],
 "metadata": {
  "kernelspec": {
   "display_name": "Python 3",
   "language": "python",
   "name": "python3"
  },
  "language_info": {
   "codemirror_mode": {
    "name": "ipython",
    "version": 3
   },
   "file_extension": ".py",
   "mimetype": "text/x-python",
   "name": "python",
   "nbconvert_exporter": "python",
   "pygments_lexer": "ipython3",
   "version": "3.13.5"
  }
 },
 "nbformat": 4,
 "nbformat_minor": 5
}

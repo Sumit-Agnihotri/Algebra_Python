{
 "cells": [
  {
   "cell_type": "code",
   "execution_count": 8,
   "id": "330d91af",
   "metadata": {},
   "outputs": [],
   "source": [
    "from sympy import symbols"
   ]
  },
  {
   "cell_type": "code",
   "execution_count": 9,
   "id": "dc8506cb",
   "metadata": {},
   "outputs": [
    {
     "name": "stdout",
     "output_type": "stream",
     "text": [
      "Multiplied Expression: 3*x + 6\n"
     ]
    }
   ],
   "source": [
    "from sympy import symbols\n",
    "\n",
    "x = symbols('x')  # Define x as a symbolic variable\n",
    "expr = x + 2\n",
    "multiplied = 3 * expr\n",
    "\n",
    "print(\"Multiplied Expression:\", multiplied)"
   ]
  }
 ],
 "metadata": {
  "kernelspec": {
   "display_name": "Python 3",
   "language": "python",
   "name": "python3"
  },
  "language_info": {
   "codemirror_mode": {
    "name": "ipython",
    "version": 3
   },
   "file_extension": ".py",
   "mimetype": "text/x-python",
   "name": "python",
   "nbconvert_exporter": "python",
   "pygments_lexer": "ipython3",
   "version": "3.13.5"
  }
 },
 "nbformat": 4,
 "nbformat_minor": 5
}

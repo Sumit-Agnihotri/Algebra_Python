{
 "cells": [
  {
   "cell_type": "markdown",
   "id": "e0991c46",
   "metadata": {},
   "source": [
    "# Concept\n",
    "Start with basic algebra — declare symbols like x, y, z and form expressions."
   ]
  },
  {
   "cell_type": "code",
   "execution_count": 1,
   "id": "db049bb6",
   "metadata": {},
   "outputs": [
    {
     "name": "stdout",
     "output_type": "stream",
     "text": [
      "Expression: x + 2*y - z\n"
     ]
    }
   ],
   "source": [
    "from sympy import symbols\n",
    "\n",
    "x, y, z = symbols('x y z')\n",
    "\n",
    "expr = x + 2*y - z\n",
    "print(\"Expression:\", expr)"
   ]
  },
  {
   "cell_type": "code",
   "execution_count": null,
   "id": "89b172e9",
   "metadata": {},
   "outputs": [],
   "source": []
  }
 ],
 "metadata": {
  "kernelspec": {
   "display_name": "Python 3",
   "language": "python",
   "name": "python3"
  },
  "language_info": {
   "codemirror_mode": {
    "name": "ipython",
    "version": 3
   },
   "file_extension": ".py",
   "mimetype": "text/x-python",
   "name": "python",
   "nbconvert_exporter": "python",
   "pygments_lexer": "ipython3",
   "version": "3.13.5"
  }
 },
 "nbformat": 4,
 "nbformat_minor": 5
}

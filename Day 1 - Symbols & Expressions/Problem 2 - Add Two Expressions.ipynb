{
 "cells": [
  {
   "cell_type": "code",
   "execution_count": 2,
   "id": "0b5e7839",
   "metadata": {},
   "outputs": [],
   "source": [
    "from sympy import symbols"
   ]
  },
  {
   "cell_type": "markdown",
   "id": "b73e7725",
   "metadata": {},
   "source": [
    "# Concept\n",
    "Combine algebraic expressions like x + 2 and x - 3."
   ]
  },
  {
   "cell_type": "code",
   "execution_count": 4,
   "id": "1d3ae5c1",
   "metadata": {},
   "outputs": [
    {
     "name": "stdout",
     "output_type": "stream",
     "text": [
      "Added Expression: 2*x - 1\n"
     ]
    }
   ],
   "source": [
    "x = symbols('x')\n",
    "expr1 = x + 2\n",
    "expr2 = x - 3\n",
    "result = expr1 + expr2\n",
    "print(\"Added Expression:\", result)"
   ]
  }
 ],
 "metadata": {
  "kernelspec": {
   "display_name": "Python 3",
   "language": "python",
   "name": "python3"
  },
  "language_info": {
   "codemirror_mode": {
    "name": "ipython",
    "version": 3
   },
   "file_extension": ".py",
   "mimetype": "text/x-python",
   "name": "python",
   "nbconvert_exporter": "python",
   "pygments_lexer": "ipython3",
   "version": "3.13.5"
  }
 },
 "nbformat": 4,
 "nbformat_minor": 5
}

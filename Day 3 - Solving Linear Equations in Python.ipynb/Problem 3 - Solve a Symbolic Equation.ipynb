{
 "cells": [
  {
   "cell_type": "markdown",
   "id": "e1d7b8ea",
   "metadata": {},
   "source": [
    "# Concept\n",
    "Let a and b be variables. The solution will be expressed symbolically."
   ]
  },
  {
   "cell_type": "code",
   "execution_count": 3,
   "id": "10216a03",
   "metadata": {},
   "outputs": [
    {
     "name": "stdout",
     "output_type": "stream",
     "text": [
      "General Solution for x: [-b/a]\n"
     ]
    }
   ],
   "source": [
    "from sympy import symbols, Eq, solve\n",
    "\n",
    "a, b, x = symbols('a b x')\n",
    "eq3 = Eq(a*x + b, 0)\n",
    "solution3 = solve(eq3, x)\n",
    "\n",
    "print(\"General Solution for x:\", solution3)"
   ]
  }
 ],
 "metadata": {
  "kernelspec": {
   "display_name": "Python 3",
   "language": "python",
   "name": "python3"
  },
  "language_info": {
   "codemirror_mode": {
    "name": "ipython",
    "version": 3
   },
   "file_extension": ".py",
   "mimetype": "text/x-python",
   "name": "python",
   "nbconvert_exporter": "python",
   "pygments_lexer": "ipython3",
   "version": "3.13.5"
  }
 },
 "nbformat": 4,
 "nbformat_minor": 5
}

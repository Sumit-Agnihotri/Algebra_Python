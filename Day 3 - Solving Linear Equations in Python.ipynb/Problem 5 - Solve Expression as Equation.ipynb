{
 "cells": [
  {
   "cell_type": "markdown",
   "id": "8646e0de",
   "metadata": {},
   "source": [
    "# Concept\n",
    "You can also solve expressions like x**2 - 4 = 0."
   ]
  },
  {
   "cell_type": "code",
   "execution_count": 2,
   "id": "6992f84e",
   "metadata": {},
   "outputs": [
    {
     "name": "stdout",
     "output_type": "stream",
     "text": [
      "Roots of x² - 4 = 0: [-2, 2]\n"
     ]
    }
   ],
   "source": [
    "from sympy import symbols, solve\n",
    "\n",
    "x = symbols('x')\n",
    "expr = x**2 - 4\n",
    "solution5 = solve(expr, x)\n",
    "\n",
    "print(\"Roots of x² - 4 = 0:\", solution5)"
   ]
  }
 ],
 "metadata": {
  "kernelspec": {
   "display_name": "Python 3",
   "language": "python",
   "name": "python3"
  },
  "language_info": {
   "codemirror_mode": {
    "name": "ipython",
    "version": 3
   },
   "file_extension": ".py",
   "mimetype": "text/x-python",
   "name": "python",
   "nbconvert_exporter": "python",
   "pygments_lexer": "ipython3",
   "version": "3.13.5"
  }
 },
 "nbformat": 4,
 "nbformat_minor": 5
}

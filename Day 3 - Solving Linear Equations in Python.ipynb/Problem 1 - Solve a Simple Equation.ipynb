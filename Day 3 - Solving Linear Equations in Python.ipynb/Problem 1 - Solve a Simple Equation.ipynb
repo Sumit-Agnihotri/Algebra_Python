{
 "cells": [
  {
   "cell_type": "markdown",
   "id": "94c472c8",
   "metadata": {},
   "source": [
    "# Concept\n",
    "To solve an equation, isolate the variable.\n",
    "We use Eq(lhs, rhs) to define it and solve() to compute."
   ]
  },
  {
   "cell_type": "code",
   "execution_count": 1,
   "id": "3ad9c3a3",
   "metadata": {},
   "outputs": [
    {
     "name": "stdout",
     "output_type": "stream",
     "text": [
      "Solution: [2]\n"
     ]
    }
   ],
   "source": [
    "from sympy import symbols, Eq, solve\n",
    "\n",
    "x = symbols('x')\n",
    "eq = Eq(2*x + 3, 7)\n",
    "\n",
    "solution = solve(eq, x)\n",
    "print(\"Solution:\", solution)"
   ]
  },
  {
   "cell_type": "code",
   "execution_count": null,
   "id": "41459dda",
   "metadata": {},
   "outputs": [],
   "source": []
  }
 ],
 "metadata": {
  "kernelspec": {
   "display_name": "Python 3",
   "language": "python",
   "name": "python3"
  },
  "language_info": {
   "codemirror_mode": {
    "name": "ipython",
    "version": 3
   },
   "file_extension": ".py",
   "mimetype": "text/x-python",
   "name": "python",
   "nbconvert_exporter": "python",
   "pygments_lexer": "ipython3",
   "version": "3.13.5"
  }
 },
 "nbformat": 4,
 "nbformat_minor": 5
}

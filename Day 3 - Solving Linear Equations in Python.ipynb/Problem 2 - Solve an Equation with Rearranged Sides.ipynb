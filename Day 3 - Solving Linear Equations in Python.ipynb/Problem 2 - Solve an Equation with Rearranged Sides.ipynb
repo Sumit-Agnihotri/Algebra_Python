{
 "cells": [
  {
   "cell_type": "markdown",
   "id": "50469003",
   "metadata": {},
   "source": [
    "# Concept\n",
    "It doesn’t matter if the variable is on the right or left — SymPy handles it."
   ]
  },
  {
   "cell_type": "code",
   "execution_count": 3,
   "id": "f4c2b601",
   "metadata": {},
   "outputs": [
    {
     "data": {
      "text/latex": [
       "$\\displaystyle 5 = x + 1$"
      ],
      "text/plain": [
       "Eq(5, x + 1)"
      ]
     },
     "metadata": {},
     "output_type": "display_data"
    },
    {
     "name": "stdout",
     "output_type": "stream",
     "text": [
      "Solution: [4]\n"
     ]
    }
   ],
   "source": [
    "from sympy import symbols, Eq, solve\n",
    "\n",
    "x = symbols('x')\n",
    "eq2 = Eq(5, x + 1)\n",
    "solution2 = solve(eq2, x)\n",
    "display(eq2)\n",
    "print(\"Solution:\", solution2)"
   ]
  }
 ],
 "metadata": {
  "kernelspec": {
   "display_name": "Python 3",
   "language": "python",
   "name": "python3"
  },
  "language_info": {
   "codemirror_mode": {
    "name": "ipython",
    "version": 3
   },
   "file_extension": ".py",
   "mimetype": "text/x-python",
   "name": "python",
   "nbconvert_exporter": "python",
   "pygments_lexer": "ipython3",
   "version": "3.13.5"
  }
 },
 "nbformat": 4,
 "nbformat_minor": 5
}

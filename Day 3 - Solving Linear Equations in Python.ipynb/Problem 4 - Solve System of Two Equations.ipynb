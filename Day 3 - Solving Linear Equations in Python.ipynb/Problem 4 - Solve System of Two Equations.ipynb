{
 "cells": [
  {
   "cell_type": "markdown",
   "id": "014a87c9",
   "metadata": {},
   "source": [
    "# Concept\n",
    "Use linsolve() to solve multiple equations together."
   ]
  },
  {
   "cell_type": "code",
   "execution_count": 2,
   "id": "20c73780",
   "metadata": {},
   "outputs": [
    {
     "name": "stdout",
     "output_type": "stream",
     "text": [
      "Solution (x, y): {(8/3, 2/3)}\n"
     ]
    }
   ],
   "source": [
    "from sympy import symbols, Eq, linsolve\n",
    "\n",
    "x = symbols('x')\n",
    "y = symbols('y')\n",
    "eq1 = Eq(2*x + y, 6)\n",
    "eq2 = Eq(x - y, 2)\n",
    "\n",
    "solution4 = linsolve((eq1, eq2), x, y)\n",
    "print(\"Solution (x, y):\", solution4)"
   ]
  }
 ],
 "metadata": {
  "kernelspec": {
   "display_name": "Python 3",
   "language": "python",
   "name": "python3"
  },
  "language_info": {
   "codemirror_mode": {
    "name": "ipython",
    "version": 3
   },
   "file_extension": ".py",
   "mimetype": "text/x-python",
   "name": "python",
   "nbconvert_exporter": "python",
   "pygments_lexer": "ipython3",
   "version": "3.13.5"
  }
 },
 "nbformat": 4,
 "nbformat_minor": 5
}
